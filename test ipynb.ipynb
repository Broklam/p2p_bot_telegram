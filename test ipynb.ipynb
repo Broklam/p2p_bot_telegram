{
 "cells": [
  {
   "cell_type": "code",
   "execution_count": 3,
   "outputs": [
    {
     "name": "stdout",
     "output_type": "stream",
     "text": [
      "<class 'dict'>\n",
      "{'BTC': {'coin': 'BTC', 'price': 20889.28, 'change_day': 3.1569382716049326, 'change_hour': -0.9086454375847767}, 'ETH': {'coin': 'ETH', 'price': 1221.33, 'change_day': 7.0553276533080895, 'change_hour': -0.931205944143868}, 'SOL': {'coin': 'SOL', 'price': 38.38, 'change_day': 6.168741355463359, 'change_hour': -1.031459515214024}}\n"
     ]
    }
   ],
   "source": [
    "import requests\n",
    "def get_prices():\n",
    "    coins = [\"BTC\", \"ETH\", \"SOL\"]\n",
    "    crypto_data = requests.get(\n",
    "        \"https://min-api.cryptocompare.com/data/pricemultifull?fsyms={}&tsyms=USD\".format(\",\".join(coins))).json()[\n",
    "        \"RAW\"]\n",
    "\n",
    "    data = {}\n",
    "    for i in crypto_data:\n",
    "        data[i] = {\n",
    "            \"coin\": i,\n",
    "            \"price\": crypto_data[i][\"USD\"][\"PRICE\"],\n",
    "            \"change_day\": crypto_data[i][\"USD\"][\"CHANGEPCT24HOUR\"],\n",
    "            \"change_hour\": crypto_data[i][\"USD\"][\"CHANGEPCTHOUR\"]\n",
    "        }\n",
    "\n",
    "    return data\n",
    "gg=get_prices()\n",
    "print(gg.__class__)\n",
    "print(get_prices())"
   ],
   "metadata": {
    "collapsed": false,
    "pycharm": {
     "name": "#%%\n"
    }
   }
  },
  {
   "cell_type": "code",
   "execution_count": 28,
   "outputs": [
    {
     "name": "stdout",
     "output_type": "stream",
     "text": [
      "21613.74\n"
     ]
    }
   ],
   "source": [
    "import requests\n",
    "def get_price(coin1):\n",
    "    crypto_data = requests.get(\n",
    "        \"https://min-api.cryptocompare.com/data/pricemultifull?fsyms={}&tsyms=USD\".format(coin1)).json()[\n",
    "        \"RAW\"]\n",
    "    #print(crypto_data)\n",
    "    data = {}\n",
    "    for i in crypto_data:\n",
    "        data[i] = {\n",
    "            \"coin\": i,\n",
    "            \"price\": crypto_data[i][\"USD\"][\"PRICE\"],\n",
    "            \"change_day\": crypto_data[i][\"USD\"][\"CHANGEPCT24HOUR\"],\n",
    "            \"change_hour\": crypto_data[i][\"USD\"][\"CHANGEPCTHOUR\"],\n",
    "\n",
    "        }\n",
    "    return data[coin1][\"price\"]\n",
    "\n",
    "print(get_price(\"BTC\"))"
   ],
   "metadata": {
    "collapsed": false,
    "pycharm": {
     "name": "#%%\n"
    }
   }
  },
  {
   "cell_type": "code",
   "execution_count": 2,
   "outputs": [
    {
     "ename": "SyntaxError",
     "evalue": "incomplete input (2206664155.py, line 10)",
     "output_type": "error",
     "traceback": [
      "\u001B[0;36m  Input \u001B[0;32mIn [2]\u001B[0;36m\u001B[0m\n\u001B[0;31m    print(f\"{data['symbol']} price is {data['price']}\"\u001B[0m\n\u001B[0m                                                      ^\u001B[0m\n\u001B[0;31mSyntaxError\u001B[0m\u001B[0;31m:\u001B[0m incomplete input\n"
     ]
    }
   ],
   "source": [
    "import json\n",
    "import requests\n",
    "\n",
    "# defining key/request url\n",
    "key = \"https://api.binance.com/api/v3/ticker/price?symbol=BTCUSDT\"\n",
    "\n",
    "# requesting data from url\n",
    "data = requests.get(key)\n",
    "data = data.json()\n",
    "print(f\"{data['symbol']} price is {data['price']}\""
   ],
   "metadata": {
    "collapsed": false,
    "pycharm": {
     "name": "#%%\n"
    }
   }
  },
  {
   "cell_type": "code",
   "execution_count": 7,
   "outputs": [
    {
     "ename": "KeyError",
     "evalue": "'symbol'",
     "output_type": "error",
     "traceback": [
      "\u001B[0;31m---------------------------------------------------------------------------\u001B[0m",
      "\u001B[0;31mKeyError\u001B[0m                                  Traceback (most recent call last)",
      "Input \u001B[0;32mIn [7]\u001B[0m, in \u001B[0;36m<cell line: 13>\u001B[0;34m()\u001B[0m\n\u001B[1;32m     18\u001B[0m data \u001B[38;5;241m=\u001B[39m data\u001B[38;5;241m.\u001B[39mjson()\n\u001B[1;32m     19\u001B[0m j \u001B[38;5;241m=\u001B[39m j\u001B[38;5;241m+\u001B[39m\u001B[38;5;241m1\u001B[39m\n\u001B[0;32m---> 20\u001B[0m \u001B[38;5;28mprint\u001B[39m(\u001B[38;5;124mf\u001B[39m\u001B[38;5;124m\"\u001B[39m\u001B[38;5;132;01m{\u001B[39;00mdata[\u001B[38;5;124m'\u001B[39m\u001B[38;5;124msymbol\u001B[39m\u001B[38;5;124m'\u001B[39m]\u001B[38;5;132;01m}\u001B[39;00m\u001B[38;5;124m price is \u001B[39m\u001B[38;5;132;01m{\u001B[39;00mdata[\u001B[38;5;124m'\u001B[39m\u001B[38;5;124mprice\u001B[39m\u001B[38;5;124m'\u001B[39m]\u001B[38;5;132;01m}\u001B[39;00m\u001B[38;5;124m\"\u001B[39m)\n",
      "\u001B[0;31mKeyError\u001B[0m: 'symbol'"
     ]
    }
   ],
   "source": [
    "# Import libraries\n",
    "import json\n",
    "import requests\n",
    "\n",
    "# Defining Binance API URL\n",
    "key = \"https://api.binance.com/api/v3/ticker/price?symbol=\"\n",
    "\n",
    "# Making list for multiple crypto's\n",
    "currencies = [\"BTCUSD\", \"DOGEUSDT\", \"LTCUSDT\"]\n",
    "j = 0\n",
    "\n",
    "# running loop to print all crypto prices\n",
    "for i in currencies:\n",
    "\n",
    "    # completing API for request\n",
    "    url = key+currencies[j]\n",
    "    data = requests.get(url)\n",
    "    data = data.json()\n",
    "    j = j+1\n",
    "    print(f\"{data['symbol']} price is {data['price']}\")"
   ],
   "metadata": {
    "collapsed": false,
    "pycharm": {
     "name": "#%%\n"
    }
   }
  },
  {
   "cell_type": "code",
   "execution_count": 10,
   "outputs": [
    {
     "ename": "AttributeError",
     "evalue": "'NoneType' object has no attribute 'find'",
     "output_type": "error",
     "traceback": [
      "\u001B[0;31m---------------------------------------------------------------------------\u001B[0m",
      "\u001B[0;31mAttributeError\u001B[0m                            Traceback (most recent call last)",
      "Input \u001B[0;32mIn [10]\u001B[0m, in \u001B[0;36m<cell line: 19>\u001B[0;34m()\u001B[0m\n\u001B[1;32m     17\u001B[0m \u001B[38;5;66;03m#Return the text\u001B[39;00m\n\u001B[1;32m     18\u001B[0m     \u001B[38;5;28;01mreturn\u001B[39;00m text\n\u001B[0;32m---> 19\u001B[0m \u001B[38;5;28mprint\u001B[39m(\u001B[43mget_crypto_price\u001B[49m\u001B[43m(\u001B[49m\u001B[38;5;124;43m\"\u001B[39;49m\u001B[38;5;124;43mBTC\u001B[39;49m\u001B[38;5;124;43m\"\u001B[39;49m\u001B[43m)\u001B[49m)\n",
      "Input \u001B[0;32mIn [10]\u001B[0m, in \u001B[0;36mget_crypto_price\u001B[0;34m(coin)\u001B[0m\n\u001B[1;32m     12\u001B[0m     soup \u001B[38;5;241m=\u001B[39m BeautifulSoup(HTML\u001B[38;5;241m.\u001B[39mtext, \u001B[38;5;124m'\u001B[39m\u001B[38;5;124mhtml.parser\u001B[39m\u001B[38;5;124m'\u001B[39m)\n\u001B[1;32m     14\u001B[0m     \u001B[38;5;66;03m#Find the current price\u001B[39;00m\n\u001B[1;32m     15\u001B[0m     \u001B[38;5;66;03m#text = soup.find(\"div\", attrs={'class':'BNeawe iBp4i AP7Wnd'}).text\u001B[39;00m\n\u001B[0;32m---> 16\u001B[0m     text \u001B[38;5;241m=\u001B[39m \u001B[43msoup\u001B[49m\u001B[38;5;241;43m.\u001B[39;49m\u001B[43mfind\u001B[49m\u001B[43m(\u001B[49m\u001B[38;5;124;43m\"\u001B[39;49m\u001B[38;5;124;43mdiv\u001B[39;49m\u001B[38;5;124;43m\"\u001B[39;49m\u001B[43m,\u001B[49m\u001B[43m \u001B[49m\u001B[43mattrs\u001B[49m\u001B[38;5;241;43m=\u001B[39;49m\u001B[43m{\u001B[49m\u001B[38;5;124;43m'\u001B[39;49m\u001B[38;5;124;43mclass\u001B[39;49m\u001B[38;5;124;43m'\u001B[39;49m\u001B[43m:\u001B[49m\u001B[38;5;124;43m'\u001B[39;49m\u001B[38;5;124;43mBNeawe iBp4i AP7Wnd\u001B[39;49m\u001B[38;5;124;43m'\u001B[39;49m\u001B[43m}\u001B[49m\u001B[43m)\u001B[49m\u001B[38;5;241;43m.\u001B[39;49m\u001B[43mfind\u001B[49m(\u001B[38;5;124m\"\u001B[39m\u001B[38;5;124mdiv\u001B[39m\u001B[38;5;124m\"\u001B[39m, attrs\u001B[38;5;241m=\u001B[39m{\u001B[38;5;124m'\u001B[39m\u001B[38;5;124mclass\u001B[39m\u001B[38;5;124m'\u001B[39m:\u001B[38;5;124m'\u001B[39m\u001B[38;5;124mBNeawe iBp4i AP7Wnd\u001B[39m\u001B[38;5;124m'\u001B[39m})\u001B[38;5;241m.\u001B[39mtext\n\u001B[1;32m     17\u001B[0m \u001B[38;5;66;03m#Return the text\u001B[39;00m\n\u001B[1;32m     18\u001B[0m     \u001B[38;5;28;01mreturn\u001B[39;00m text\n",
      "\u001B[0;31mAttributeError\u001B[0m: 'NoneType' object has no attribute 'find'"
     ]
    }
   ],
   "source": [
    "from bs4 import BeautifulSoup\n",
    "import requests\n",
    "import time\n",
    "def get_crypto_price(coin):\n",
    "#Get the URL\n",
    "    url = \"https://www.google.com/search?q=\"+coin+\"+price\"\n",
    "\n",
    "    #Make a request to the website\n",
    "    HTML = requests.get(url)\n",
    "\n",
    "    #Parse the HTML\n",
    "    soup = BeautifulSoup(HTML.text, 'html.parser')\n",
    "\n",
    "    #Find the current price\n",
    "    #text = soup.find(\"div\", attrs={'class':'BNeawe iBp4i AP7Wnd'}).text\n",
    "    text = soup.find(\"div\", attrs={'class':'BNeawe iBp4i AP7Wnd'}).find(\"div\", attrs={'class':'BNeawe iBp4i AP7Wnd'}).text\n",
    "#Return the text\n",
    "    return text\n",
    "print(get_crypto_price(\"BTC\"))"
   ],
   "metadata": {
    "collapsed": false,
    "pycharm": {
     "name": "#%%\n"
    }
   }
  },
  {
   "cell_type": "code",
   "execution_count": null,
   "outputs": [],
   "source": [],
   "metadata": {
    "collapsed": false,
    "pycharm": {
     "name": "#%%\n"
    }
   }
  },
  {
   "cell_type": "code",
   "execution_count": 20,
   "outputs": [
    {
     "name": "stdout",
     "output_type": "stream",
     "text": [
      "{'BTC': {'USD': 21633}}\n"
     ]
    }
   ],
   "source": [
    "import cryptocompare\n",
    "print(cryptocompare.get_price('BTC', currency=\"USD\", full=False))"
   ],
   "metadata": {
    "collapsed": false,
    "pycharm": {
     "name": "#%%\n"
    }
   }
  }
 ],
 "metadata": {
  "kernelspec": {
   "display_name": "Python 3",
   "language": "python",
   "name": "python3"
  },
  "language_info": {
   "codemirror_mode": {
    "name": "ipython",
    "version": 2
   },
   "file_extension": ".py",
   "mimetype": "text/x-python",
   "name": "python",
   "nbconvert_exporter": "python",
   "pygments_lexer": "ipython2",
   "version": "2.7.6"
  }
 },
 "nbformat": 4,
 "nbformat_minor": 0
}